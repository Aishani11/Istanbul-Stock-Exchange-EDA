{
 "cells": [
  {
   "cell_type": "code",
   "execution_count": 3,
   "metadata": {},
   "outputs": [],
   "source": [
    "# Use Ctrl+M+L to show the line number\n",
    "# download data from local computer directory # Dua, D. and Graff, C. (2019). \n",
    "# UCI Machine Learning Repository [http://archive.ics.uci.edu/ml]. #Irvine, CA: University of California, School of Information and Computer Science.\n",
    "# ISTANBUL STOCK EXCHANGE Data Set\n",
    "url=\"https://archive.ics.uci.edu/ml/machine-learning-databases/00350/default%20of%20credit%20card%20clients.xls\"\n"
   ]
  },
  {
   "cell_type": "code",
   "execution_count": 4,
   "metadata": {},
   "outputs": [],
   "source": [
    "# Import Python Libraries\n",
    "import pandas as pd\n",
    "import numpy as np\n",
    "import datetime \n",
    "import statistics\n",
    "# plotting\n",
    "import matplotlib as mpl\n",
    "# machline learning package \n",
    "import sklearn as skl"
   ]
  },
  {
   "cell_type": "code",
   "execution_count": 5,
   "metadata": {},
   "outputs": [],
   "source": [
    "#import pandas as pd\n",
    "# save to a dataFolder\n",
    "# open the excel file, delete the first row, save the file. Hint: use header parameter in the read_excel function."
   ]
  },
  {
   "cell_type": "code",
   "execution_count": 6,
   "metadata": {},
   "outputs": [
    {
     "name": "stderr",
     "output_type": "stream",
     "text": [
      "/opt/anaconda3/lib/python3.8/site-packages/openpyxl/worksheet/_reader.py:312: UserWarning: Unknown extension is not supported and will be removed\n",
      "  warn(msg)\n"
     ]
    }
   ],
   "source": [
    "df = pd.read_excel('data_akbilgic.xlsx',header =1)"
   ]
  },
  {
   "cell_type": "code",
   "execution_count": 7,
   "metadata": {},
   "outputs": [
    {
     "data": {
      "text/html": [
       "<div>\n",
       "<style scoped>\n",
       "    .dataframe tbody tr th:only-of-type {\n",
       "        vertical-align: middle;\n",
       "    }\n",
       "\n",
       "    .dataframe tbody tr th {\n",
       "        vertical-align: top;\n",
       "    }\n",
       "\n",
       "    .dataframe thead th {\n",
       "        text-align: right;\n",
       "    }\n",
       "</style>\n",
       "<table border=\"1\" class=\"dataframe\">\n",
       "  <thead>\n",
       "    <tr style=\"text-align: right;\">\n",
       "      <th></th>\n",
       "      <th>date</th>\n",
       "      <th>ISE</th>\n",
       "      <th>ISE.1</th>\n",
       "      <th>SP</th>\n",
       "      <th>DAX</th>\n",
       "      <th>FTSE</th>\n",
       "      <th>NIKKEI</th>\n",
       "      <th>BOVESPA</th>\n",
       "      <th>EU</th>\n",
       "      <th>EM</th>\n",
       "    </tr>\n",
       "  </thead>\n",
       "  <tbody>\n",
       "    <tr>\n",
       "      <th>0</th>\n",
       "      <td>2009-01-05</td>\n",
       "      <td>0.035754</td>\n",
       "      <td>0.038376</td>\n",
       "      <td>-0.004679</td>\n",
       "      <td>0.002193</td>\n",
       "      <td>0.003894</td>\n",
       "      <td>0.000000</td>\n",
       "      <td>0.031190</td>\n",
       "      <td>0.012698</td>\n",
       "      <td>0.028524</td>\n",
       "    </tr>\n",
       "    <tr>\n",
       "      <th>1</th>\n",
       "      <td>2009-01-06</td>\n",
       "      <td>0.025426</td>\n",
       "      <td>0.031813</td>\n",
       "      <td>0.007787</td>\n",
       "      <td>0.008455</td>\n",
       "      <td>0.012866</td>\n",
       "      <td>0.004162</td>\n",
       "      <td>0.018920</td>\n",
       "      <td>0.011341</td>\n",
       "      <td>0.008773</td>\n",
       "    </tr>\n",
       "    <tr>\n",
       "      <th>2</th>\n",
       "      <td>2009-01-07</td>\n",
       "      <td>-0.028862</td>\n",
       "      <td>-0.026353</td>\n",
       "      <td>-0.030469</td>\n",
       "      <td>-0.017833</td>\n",
       "      <td>-0.028735</td>\n",
       "      <td>0.017293</td>\n",
       "      <td>-0.035899</td>\n",
       "      <td>-0.017073</td>\n",
       "      <td>-0.020015</td>\n",
       "    </tr>\n",
       "    <tr>\n",
       "      <th>3</th>\n",
       "      <td>2009-01-08</td>\n",
       "      <td>-0.062208</td>\n",
       "      <td>-0.084716</td>\n",
       "      <td>0.003391</td>\n",
       "      <td>-0.011726</td>\n",
       "      <td>-0.000466</td>\n",
       "      <td>-0.040061</td>\n",
       "      <td>0.028283</td>\n",
       "      <td>-0.005561</td>\n",
       "      <td>-0.019424</td>\n",
       "    </tr>\n",
       "    <tr>\n",
       "      <th>4</th>\n",
       "      <td>2009-01-09</td>\n",
       "      <td>0.009860</td>\n",
       "      <td>0.009658</td>\n",
       "      <td>-0.021533</td>\n",
       "      <td>-0.019873</td>\n",
       "      <td>-0.012710</td>\n",
       "      <td>-0.004474</td>\n",
       "      <td>-0.009764</td>\n",
       "      <td>-0.010989</td>\n",
       "      <td>-0.007802</td>\n",
       "    </tr>\n",
       "  </tbody>\n",
       "</table>\n",
       "</div>"
      ],
      "text/plain": [
       "        date       ISE     ISE.1        SP       DAX      FTSE    NIKKEI  \\\n",
       "0 2009-01-05  0.035754  0.038376 -0.004679  0.002193  0.003894  0.000000   \n",
       "1 2009-01-06  0.025426  0.031813  0.007787  0.008455  0.012866  0.004162   \n",
       "2 2009-01-07 -0.028862 -0.026353 -0.030469 -0.017833 -0.028735  0.017293   \n",
       "3 2009-01-08 -0.062208 -0.084716  0.003391 -0.011726 -0.000466 -0.040061   \n",
       "4 2009-01-09  0.009860  0.009658 -0.021533 -0.019873 -0.012710 -0.004474   \n",
       "\n",
       "    BOVESPA        EU        EM  \n",
       "0  0.031190  0.012698  0.028524  \n",
       "1  0.018920  0.011341  0.008773  \n",
       "2 -0.035899 -0.017073 -0.020015  \n",
       "3  0.028283 -0.005561 -0.019424  \n",
       "4 -0.009764 -0.010989 -0.007802  "
      ]
     },
     "execution_count": 7,
     "metadata": {},
     "output_type": "execute_result"
    }
   ],
   "source": [
    "df.head()"
   ]
  },
  {
   "cell_type": "code",
   "execution_count": 8,
   "metadata": {},
   "outputs": [
    {
     "data": {
      "text/plain": [
       "(536, 10)"
      ]
     },
     "execution_count": 8,
     "metadata": {},
     "output_type": "execute_result"
    }
   ],
   "source": [
    "df.shape"
   ]
  },
  {
   "cell_type": "code",
   "execution_count": 9,
   "metadata": {},
   "outputs": [],
   "source": [
    "# exercises below"
   ]
  },
  {
   "cell_type": "code",
   "execution_count": 10,
   "metadata": {},
   "outputs": [],
   "source": [
    "# first three records\n",
    "\n",
    "# print names of all the fields in the data\n",
    "\n",
    "# print first five records with selected fields \"date\", \"ISE\", \"SP\", \"DAX\"\n",
    "\n",
    "# print last five records with selected fields \"date\", \"ISE\", \"SP\", \"DAX\"\n"
   ]
  },
  {
   "cell_type": "code",
   "execution_count": 11,
   "metadata": {},
   "outputs": [
    {
     "data": {
      "text/html": [
       "<div>\n",
       "<style scoped>\n",
       "    .dataframe tbody tr th:only-of-type {\n",
       "        vertical-align: middle;\n",
       "    }\n",
       "\n",
       "    .dataframe tbody tr th {\n",
       "        vertical-align: top;\n",
       "    }\n",
       "\n",
       "    .dataframe thead th {\n",
       "        text-align: right;\n",
       "    }\n",
       "</style>\n",
       "<table border=\"1\" class=\"dataframe\">\n",
       "  <thead>\n",
       "    <tr style=\"text-align: right;\">\n",
       "      <th></th>\n",
       "      <th>date</th>\n",
       "      <th>ISE</th>\n",
       "      <th>ISE.1</th>\n",
       "      <th>SP</th>\n",
       "      <th>DAX</th>\n",
       "      <th>FTSE</th>\n",
       "      <th>NIKKEI</th>\n",
       "      <th>BOVESPA</th>\n",
       "      <th>EU</th>\n",
       "      <th>EM</th>\n",
       "    </tr>\n",
       "  </thead>\n",
       "  <tbody>\n",
       "    <tr>\n",
       "      <th>0</th>\n",
       "      <td>2009-01-05</td>\n",
       "      <td>0.035754</td>\n",
       "      <td>0.038376</td>\n",
       "      <td>-0.004679</td>\n",
       "      <td>0.002193</td>\n",
       "      <td>0.003894</td>\n",
       "      <td>0.000000</td>\n",
       "      <td>0.031190</td>\n",
       "      <td>0.012698</td>\n",
       "      <td>0.028524</td>\n",
       "    </tr>\n",
       "    <tr>\n",
       "      <th>1</th>\n",
       "      <td>2009-01-06</td>\n",
       "      <td>0.025426</td>\n",
       "      <td>0.031813</td>\n",
       "      <td>0.007787</td>\n",
       "      <td>0.008455</td>\n",
       "      <td>0.012866</td>\n",
       "      <td>0.004162</td>\n",
       "      <td>0.018920</td>\n",
       "      <td>0.011341</td>\n",
       "      <td>0.008773</td>\n",
       "    </tr>\n",
       "    <tr>\n",
       "      <th>2</th>\n",
       "      <td>2009-01-07</td>\n",
       "      <td>-0.028862</td>\n",
       "      <td>-0.026353</td>\n",
       "      <td>-0.030469</td>\n",
       "      <td>-0.017833</td>\n",
       "      <td>-0.028735</td>\n",
       "      <td>0.017293</td>\n",
       "      <td>-0.035899</td>\n",
       "      <td>-0.017073</td>\n",
       "      <td>-0.020015</td>\n",
       "    </tr>\n",
       "  </tbody>\n",
       "</table>\n",
       "</div>"
      ],
      "text/plain": [
       "        date       ISE     ISE.1        SP       DAX      FTSE    NIKKEI  \\\n",
       "0 2009-01-05  0.035754  0.038376 -0.004679  0.002193  0.003894  0.000000   \n",
       "1 2009-01-06  0.025426  0.031813  0.007787  0.008455  0.012866  0.004162   \n",
       "2 2009-01-07 -0.028862 -0.026353 -0.030469 -0.017833 -0.028735  0.017293   \n",
       "\n",
       "    BOVESPA        EU        EM  \n",
       "0  0.031190  0.012698  0.028524  \n",
       "1  0.018920  0.011341  0.008773  \n",
       "2 -0.035899 -0.017073 -0.020015  "
      ]
     },
     "execution_count": 11,
     "metadata": {},
     "output_type": "execute_result"
    }
   ],
   "source": [
    "#first three records\n",
    "\n",
    "#print(df.iloc[:3])\n",
    "df.iloc[:3]"
   ]
  },
  {
   "cell_type": "code",
   "execution_count": 12,
   "metadata": {},
   "outputs": [
    {
     "name": "stdout",
     "output_type": "stream",
     "text": [
      "['date', 'ISE', 'ISE.1', 'SP', 'DAX', 'FTSE', 'NIKKEI', 'BOVESPA', 'EU', 'EM']\n"
     ]
    }
   ],
   "source": [
    "# print names of all the fields in the data\n",
    "\n",
    "cols = list(df.columns)\n",
    "print(cols)"
   ]
  },
  {
   "cell_type": "code",
   "execution_count": 13,
   "metadata": {},
   "outputs": [
    {
     "name": "stdout",
     "output_type": "stream",
     "text": [
      "        date       ISE        SP       DAX\n",
      "0 2009-01-05  0.035754 -0.004679  0.002193\n",
      "1 2009-01-06  0.025426  0.007787  0.008455\n",
      "2 2009-01-07 -0.028862 -0.030469 -0.017833\n",
      "3 2009-01-08 -0.062208  0.003391 -0.011726\n",
      "4 2009-01-09  0.009860 -0.021533 -0.019873\n"
     ]
    }
   ],
   "source": [
    "# print first five records with selected fields \"date\", \"ISE\", \"SP\", \"DAX\"\n",
    "\n",
    "print(df[['date','ISE','SP','DAX']][:5])"
   ]
  },
  {
   "cell_type": "code",
   "execution_count": 14,
   "metadata": {},
   "outputs": [
    {
     "name": "stdout",
     "output_type": "stream",
     "text": [
      "          date       ISE        SP       DAX\n",
      "531 2011-02-16  0.008599  0.006238  0.001925\n",
      "532 2011-02-17  0.009310  0.003071 -0.001186\n",
      "533 2011-02-18  0.000191  0.001923  0.002872\n",
      "534 2011-02-21 -0.013069 -0.020742 -0.014239\n",
      "535 2011-02-22 -0.007246  0.000000 -0.000473\n"
     ]
    }
   ],
   "source": [
    "# print last five records with selected fields \"date\", \"ISE\", \"SP\", \"DAX\"\n",
    "\n",
    "print(df[['date','ISE','SP','DAX']][-5:])"
   ]
  },
  {
   "cell_type": "code",
   "execution_count": 15,
   "metadata": {},
   "outputs": [],
   "source": [
    "# create a few variable named \"SP_GE_zero\" \n",
    "# \"SP_GE_zero\" == 1 if the value of field \"SP\" >=0 ; else \"SP_GE_zero\" ==0\n",
    "# print the datatype of \"SP_GE_zero\" "
   ]
  },
  {
   "cell_type": "code",
   "execution_count": 16,
   "metadata": {},
   "outputs": [],
   "source": [
    "# create a few variable named \"SP_GE_zero\" \n",
    "\n",
    "SP_GE_zero = []"
   ]
  },
  {
   "cell_type": "code",
   "execution_count": 17,
   "metadata": {},
   "outputs": [],
   "source": [
    "# \"SP_GE_zero\" == 1 if the value of field \"SP\" >=0 ; else \"SP_GE_zero\" ==0\n",
    "for i in range(len(df['SP'])):\n",
    "    if df['SP'][i]>=0:\n",
    "        SP_GE_zero.append(1)\n",
    "    else:\n",
    "        SP_GE_zero.append(0)"
   ]
  },
  {
   "cell_type": "code",
   "execution_count": 18,
   "metadata": {},
   "outputs": [
    {
     "data": {
      "text/plain": [
       "list"
      ]
     },
     "execution_count": 18,
     "metadata": {},
     "output_type": "execute_result"
    }
   ],
   "source": [
    "# print the datatype of \"SP_GE_zero\" \n",
    "\n",
    "type(SP_GE_zero)"
   ]
  },
  {
   "cell_type": "code",
   "execution_count": 19,
   "metadata": {},
   "outputs": [
    {
     "name": "stdout",
     "output_type": "stream",
     "text": [
      "The datatype of SP_GE_zero is List\n"
     ]
    }
   ],
   "source": [
    "# print the datatype of \"SP_GE_zero\" \n",
    "\n",
    "print('The datatype of SP_GE_zero is List')"
   ]
  },
  {
   "cell_type": "code",
   "execution_count": 20,
   "metadata": {},
   "outputs": [],
   "source": [
    "df['SP_GE_zero'] = SP_GE_zero"
   ]
  },
  {
   "cell_type": "code",
   "execution_count": 21,
   "metadata": {},
   "outputs": [
    {
     "data": {
      "text/html": [
       "<div>\n",
       "<style scoped>\n",
       "    .dataframe tbody tr th:only-of-type {\n",
       "        vertical-align: middle;\n",
       "    }\n",
       "\n",
       "    .dataframe tbody tr th {\n",
       "        vertical-align: top;\n",
       "    }\n",
       "\n",
       "    .dataframe thead th {\n",
       "        text-align: right;\n",
       "    }\n",
       "</style>\n",
       "<table border=\"1\" class=\"dataframe\">\n",
       "  <thead>\n",
       "    <tr style=\"text-align: right;\">\n",
       "      <th></th>\n",
       "      <th>date</th>\n",
       "      <th>ISE</th>\n",
       "      <th>ISE.1</th>\n",
       "      <th>SP</th>\n",
       "      <th>DAX</th>\n",
       "      <th>FTSE</th>\n",
       "      <th>NIKKEI</th>\n",
       "      <th>BOVESPA</th>\n",
       "      <th>EU</th>\n",
       "      <th>EM</th>\n",
       "      <th>SP_GE_zero</th>\n",
       "    </tr>\n",
       "  </thead>\n",
       "  <tbody>\n",
       "    <tr>\n",
       "      <th>0</th>\n",
       "      <td>2009-01-05</td>\n",
       "      <td>0.035754</td>\n",
       "      <td>0.038376</td>\n",
       "      <td>-0.004679</td>\n",
       "      <td>0.002193</td>\n",
       "      <td>0.003894</td>\n",
       "      <td>0.000000</td>\n",
       "      <td>0.031190</td>\n",
       "      <td>0.012698</td>\n",
       "      <td>0.028524</td>\n",
       "      <td>0</td>\n",
       "    </tr>\n",
       "    <tr>\n",
       "      <th>1</th>\n",
       "      <td>2009-01-06</td>\n",
       "      <td>0.025426</td>\n",
       "      <td>0.031813</td>\n",
       "      <td>0.007787</td>\n",
       "      <td>0.008455</td>\n",
       "      <td>0.012866</td>\n",
       "      <td>0.004162</td>\n",
       "      <td>0.018920</td>\n",
       "      <td>0.011341</td>\n",
       "      <td>0.008773</td>\n",
       "      <td>1</td>\n",
       "    </tr>\n",
       "    <tr>\n",
       "      <th>2</th>\n",
       "      <td>2009-01-07</td>\n",
       "      <td>-0.028862</td>\n",
       "      <td>-0.026353</td>\n",
       "      <td>-0.030469</td>\n",
       "      <td>-0.017833</td>\n",
       "      <td>-0.028735</td>\n",
       "      <td>0.017293</td>\n",
       "      <td>-0.035899</td>\n",
       "      <td>-0.017073</td>\n",
       "      <td>-0.020015</td>\n",
       "      <td>0</td>\n",
       "    </tr>\n",
       "    <tr>\n",
       "      <th>3</th>\n",
       "      <td>2009-01-08</td>\n",
       "      <td>-0.062208</td>\n",
       "      <td>-0.084716</td>\n",
       "      <td>0.003391</td>\n",
       "      <td>-0.011726</td>\n",
       "      <td>-0.000466</td>\n",
       "      <td>-0.040061</td>\n",
       "      <td>0.028283</td>\n",
       "      <td>-0.005561</td>\n",
       "      <td>-0.019424</td>\n",
       "      <td>1</td>\n",
       "    </tr>\n",
       "    <tr>\n",
       "      <th>4</th>\n",
       "      <td>2009-01-09</td>\n",
       "      <td>0.009860</td>\n",
       "      <td>0.009658</td>\n",
       "      <td>-0.021533</td>\n",
       "      <td>-0.019873</td>\n",
       "      <td>-0.012710</td>\n",
       "      <td>-0.004474</td>\n",
       "      <td>-0.009764</td>\n",
       "      <td>-0.010989</td>\n",
       "      <td>-0.007802</td>\n",
       "      <td>0</td>\n",
       "    </tr>\n",
       "  </tbody>\n",
       "</table>\n",
       "</div>"
      ],
      "text/plain": [
       "        date       ISE     ISE.1        SP       DAX      FTSE    NIKKEI  \\\n",
       "0 2009-01-05  0.035754  0.038376 -0.004679  0.002193  0.003894  0.000000   \n",
       "1 2009-01-06  0.025426  0.031813  0.007787  0.008455  0.012866  0.004162   \n",
       "2 2009-01-07 -0.028862 -0.026353 -0.030469 -0.017833 -0.028735  0.017293   \n",
       "3 2009-01-08 -0.062208 -0.084716  0.003391 -0.011726 -0.000466 -0.040061   \n",
       "4 2009-01-09  0.009860  0.009658 -0.021533 -0.019873 -0.012710 -0.004474   \n",
       "\n",
       "    BOVESPA        EU        EM  SP_GE_zero  \n",
       "0  0.031190  0.012698  0.028524           0  \n",
       "1  0.018920  0.011341  0.008773           1  \n",
       "2 -0.035899 -0.017073 -0.020015           0  \n",
       "3  0.028283 -0.005561 -0.019424           1  \n",
       "4 -0.009764 -0.010989 -0.007802           0  "
      ]
     },
     "execution_count": 21,
     "metadata": {},
     "output_type": "execute_result"
    }
   ],
   "source": [
    "df.head()"
   ]
  },
  {
   "cell_type": "code",
   "execution_count": 22,
   "metadata": {},
   "outputs": [],
   "source": [
    "# A summary of descriptive statistics for all data columns, including count, mean, std, min, max etc."
   ]
  },
  {
   "cell_type": "code",
   "execution_count": 23,
   "metadata": {},
   "outputs": [
    {
     "data": {
      "text/html": [
       "<div>\n",
       "<style scoped>\n",
       "    .dataframe tbody tr th:only-of-type {\n",
       "        vertical-align: middle;\n",
       "    }\n",
       "\n",
       "    .dataframe tbody tr th {\n",
       "        vertical-align: top;\n",
       "    }\n",
       "\n",
       "    .dataframe thead th {\n",
       "        text-align: right;\n",
       "    }\n",
       "</style>\n",
       "<table border=\"1\" class=\"dataframe\">\n",
       "  <thead>\n",
       "    <tr style=\"text-align: right;\">\n",
       "      <th></th>\n",
       "      <th>ISE</th>\n",
       "      <th>ISE.1</th>\n",
       "      <th>SP</th>\n",
       "      <th>DAX</th>\n",
       "      <th>FTSE</th>\n",
       "      <th>NIKKEI</th>\n",
       "      <th>BOVESPA</th>\n",
       "      <th>EU</th>\n",
       "      <th>EM</th>\n",
       "      <th>SP_GE_zero</th>\n",
       "    </tr>\n",
       "  </thead>\n",
       "  <tbody>\n",
       "    <tr>\n",
       "      <th>count</th>\n",
       "      <td>536.000000</td>\n",
       "      <td>536.000000</td>\n",
       "      <td>536.000000</td>\n",
       "      <td>536.000000</td>\n",
       "      <td>536.000000</td>\n",
       "      <td>536.000000</td>\n",
       "      <td>536.000000</td>\n",
       "      <td>536.000000</td>\n",
       "      <td>536.000000</td>\n",
       "      <td>536.000000</td>\n",
       "    </tr>\n",
       "    <tr>\n",
       "      <th>mean</th>\n",
       "      <td>0.001629</td>\n",
       "      <td>0.001552</td>\n",
       "      <td>0.000643</td>\n",
       "      <td>0.000721</td>\n",
       "      <td>0.000510</td>\n",
       "      <td>0.000308</td>\n",
       "      <td>0.000935</td>\n",
       "      <td>0.000471</td>\n",
       "      <td>0.000936</td>\n",
       "      <td>0.582090</td>\n",
       "    </tr>\n",
       "    <tr>\n",
       "      <th>std</th>\n",
       "      <td>0.016264</td>\n",
       "      <td>0.021122</td>\n",
       "      <td>0.014093</td>\n",
       "      <td>0.014557</td>\n",
       "      <td>0.012656</td>\n",
       "      <td>0.014850</td>\n",
       "      <td>0.015751</td>\n",
       "      <td>0.012990</td>\n",
       "      <td>0.010501</td>\n",
       "      <td>0.493676</td>\n",
       "    </tr>\n",
       "    <tr>\n",
       "      <th>min</th>\n",
       "      <td>-0.062208</td>\n",
       "      <td>-0.084716</td>\n",
       "      <td>-0.054262</td>\n",
       "      <td>-0.052331</td>\n",
       "      <td>-0.054816</td>\n",
       "      <td>-0.050448</td>\n",
       "      <td>-0.053849</td>\n",
       "      <td>-0.048817</td>\n",
       "      <td>-0.038564</td>\n",
       "      <td>0.000000</td>\n",
       "    </tr>\n",
       "    <tr>\n",
       "      <th>25%</th>\n",
       "      <td>-0.006669</td>\n",
       "      <td>-0.009753</td>\n",
       "      <td>-0.004675</td>\n",
       "      <td>-0.006212</td>\n",
       "      <td>-0.005808</td>\n",
       "      <td>-0.007407</td>\n",
       "      <td>-0.007215</td>\n",
       "      <td>-0.005952</td>\n",
       "      <td>-0.004911</td>\n",
       "      <td>0.000000</td>\n",
       "    </tr>\n",
       "    <tr>\n",
       "      <th>50%</th>\n",
       "      <td>0.002189</td>\n",
       "      <td>0.002643</td>\n",
       "      <td>0.000876</td>\n",
       "      <td>0.000887</td>\n",
       "      <td>0.000409</td>\n",
       "      <td>0.000000</td>\n",
       "      <td>0.000279</td>\n",
       "      <td>0.000196</td>\n",
       "      <td>0.001077</td>\n",
       "      <td>1.000000</td>\n",
       "    </tr>\n",
       "    <tr>\n",
       "      <th>75%</th>\n",
       "      <td>0.010584</td>\n",
       "      <td>0.013809</td>\n",
       "      <td>0.006706</td>\n",
       "      <td>0.008224</td>\n",
       "      <td>0.007428</td>\n",
       "      <td>0.007882</td>\n",
       "      <td>0.008881</td>\n",
       "      <td>0.007792</td>\n",
       "      <td>0.006423</td>\n",
       "      <td>1.000000</td>\n",
       "    </tr>\n",
       "    <tr>\n",
       "      <th>max</th>\n",
       "      <td>0.068952</td>\n",
       "      <td>0.100621</td>\n",
       "      <td>0.068366</td>\n",
       "      <td>0.058951</td>\n",
       "      <td>0.050323</td>\n",
       "      <td>0.061229</td>\n",
       "      <td>0.063792</td>\n",
       "      <td>0.067042</td>\n",
       "      <td>0.047805</td>\n",
       "      <td>1.000000</td>\n",
       "    </tr>\n",
       "  </tbody>\n",
       "</table>\n",
       "</div>"
      ],
      "text/plain": [
       "              ISE       ISE.1          SP         DAX        FTSE      NIKKEI  \\\n",
       "count  536.000000  536.000000  536.000000  536.000000  536.000000  536.000000   \n",
       "mean     0.001629    0.001552    0.000643    0.000721    0.000510    0.000308   \n",
       "std      0.016264    0.021122    0.014093    0.014557    0.012656    0.014850   \n",
       "min     -0.062208   -0.084716   -0.054262   -0.052331   -0.054816   -0.050448   \n",
       "25%     -0.006669   -0.009753   -0.004675   -0.006212   -0.005808   -0.007407   \n",
       "50%      0.002189    0.002643    0.000876    0.000887    0.000409    0.000000   \n",
       "75%      0.010584    0.013809    0.006706    0.008224    0.007428    0.007882   \n",
       "max      0.068952    0.100621    0.068366    0.058951    0.050323    0.061229   \n",
       "\n",
       "          BOVESPA          EU          EM  SP_GE_zero  \n",
       "count  536.000000  536.000000  536.000000  536.000000  \n",
       "mean     0.000935    0.000471    0.000936    0.582090  \n",
       "std      0.015751    0.012990    0.010501    0.493676  \n",
       "min     -0.053849   -0.048817   -0.038564    0.000000  \n",
       "25%     -0.007215   -0.005952   -0.004911    0.000000  \n",
       "50%      0.000279    0.000196    0.001077    1.000000  \n",
       "75%      0.008881    0.007792    0.006423    1.000000  \n",
       "max      0.063792    0.067042    0.047805    1.000000  "
      ]
     },
     "execution_count": 23,
     "metadata": {},
     "output_type": "execute_result"
    }
   ],
   "source": [
    "# A summary of descriptive statistics for all data columns, including count, mean, std, min, max etc.\n",
    "\n",
    "df.describe()"
   ]
  },
  {
   "cell_type": "code",
   "execution_count": 24,
   "metadata": {},
   "outputs": [
    {
     "name": "stdout",
     "output_type": "stream",
     "text": [
      "Max for column NIKKEI is 0.061229315\n",
      "Max for column BOVESPA is 0.06379152\n",
      "Max for column EU is 0.067042467\n"
     ]
    }
   ],
   "source": [
    "# A summary of max for columns \"NIKKEI\", \"BOVESPA\", \"EU\"\n",
    "\n",
    "print('Max for column NIKKEI is' ,max(df['NIKKEI']))\n",
    "print('Max for column BOVESPA is' ,max(df['BOVESPA']))\n",
    "print('Max for column EU is' ,max(df['EU']))\n"
   ]
  },
  {
   "cell_type": "code",
   "execution_count": 25,
   "metadata": {},
   "outputs": [],
   "source": [
    "# A summary of standard deviation for \"SP\" and \"ISE\""
   ]
  },
  {
   "cell_type": "code",
   "execution_count": 26,
   "metadata": {},
   "outputs": [
    {
     "name": "stdout",
     "output_type": "stream",
     "text": [
      "Standard Deviation for SP is  0.014092959525029126\n",
      "Standard Deviation for ISE is  0.016264270138653475\n"
     ]
    }
   ],
   "source": [
    "print('Standard Deviation for SP is ', statistics.stdev(df['SP']))\n",
    "print('Standard Deviation for ISE is ', statistics.stdev(df['ISE']))"
   ]
  },
  {
   "cell_type": "code",
   "execution_count": 27,
   "metadata": {},
   "outputs": [],
   "source": [
    "# Get the mean, median, min for ['SP','DAX','FTSE', 'NIKKEI','BOVESPA']"
   ]
  },
  {
   "cell_type": "code",
   "execution_count": 28,
   "metadata": {},
   "outputs": [
    {
     "data": {
      "text/plain": [
       "SP         0.000643\n",
       "DAX        0.000721\n",
       "FTSE       0.000510\n",
       "NIKKEI     0.000308\n",
       "BOVESPA    0.000935\n",
       "dtype: float64"
      ]
     },
     "execution_count": 28,
     "metadata": {},
     "output_type": "execute_result"
    }
   ],
   "source": [
    "np.mean(df[['SP','DAX','FTSE', 'NIKKEI','BOVESPA']])"
   ]
  },
  {
   "cell_type": "code",
   "execution_count": 29,
   "metadata": {},
   "outputs": [
    {
     "data": {
      "text/plain": [
       "0.0005076085000000001"
      ]
     },
     "execution_count": 29,
     "metadata": {},
     "output_type": "execute_result"
    }
   ],
   "source": [
    "np.median(df[['SP','DAX','FTSE', 'NIKKEI','BOVESPA']])"
   ]
  },
  {
   "cell_type": "code",
   "execution_count": 30,
   "metadata": {},
   "outputs": [
    {
     "name": "stdout",
     "output_type": "stream",
     "text": [
      "SP  - 0.0008763530000000001\n",
      "DAX  - 0.0008874894999999999\n",
      "FTSE  - 0.00040862799999999996\n",
      "NIKKEI  - 0.0\n",
      "BOVESPA  - 0.0002789745\n"
     ]
    }
   ],
   "source": [
    "l = ['SP','DAX','FTSE', 'NIKKEI','BOVESPA']\n",
    "for i in range(len(l)):\n",
    "    median = np.median(df[l[i]])\n",
    "    print(l[i],' -',median)"
   ]
  },
  {
   "cell_type": "code",
   "execution_count": 31,
   "metadata": {},
   "outputs": [
    {
     "data": {
      "text/plain": [
       "SP        -0.054262\n",
       "DAX       -0.052331\n",
       "FTSE      -0.054816\n",
       "NIKKEI    -0.050448\n",
       "BOVESPA   -0.053849\n",
       "dtype: float64"
      ]
     },
     "execution_count": 31,
     "metadata": {},
     "output_type": "execute_result"
    }
   ],
   "source": [
    "np.min(df[['SP','DAX','FTSE', 'NIKKEI','BOVESPA']])"
   ]
  },
  {
   "cell_type": "code",
   "execution_count": 32,
   "metadata": {},
   "outputs": [],
   "source": [
    "# Bonus exercise, Exercise manually calculate standard deviation of 'SP' for the top 10 record \n",
    "# and check with the Python output\n",
    "# Show your calculations# Hint: use head() method to subset the first 10 records"
   ]
  },
  {
   "cell_type": "code",
   "execution_count": 42,
   "metadata": {},
   "outputs": [
    {
     "data": {
      "text/plain": [
       "date          3 days 23:29:55.287925823\n",
       "ISE                            0.032869\n",
       "ISE.1                           0.03938\n",
       "SP                             0.016279\n",
       "DAX                            0.016338\n",
       "FTSE                           0.018747\n",
       "NIKKEI                         0.027203\n",
       "BOVESPA                        0.031522\n",
       "EU                             0.017038\n",
       "EM                             0.017207\n",
       "SP_GE_zero                     0.527046\n",
       "dtype: object"
      ]
     },
     "execution_count": 42,
     "metadata": {},
     "output_type": "execute_result"
    }
   ],
   "source": [
    "df.head(10).std(axis = 0, skipna = True)"
   ]
  },
  {
   "cell_type": "code",
   "execution_count": 19,
   "metadata": {
    "collapsed": true
   },
   "outputs": [],
   "source": [
    "# randomly select 10 records from df"
   ]
  },
  {
   "cell_type": "code",
   "execution_count": 34,
   "metadata": {},
   "outputs": [
    {
     "data": {
      "text/html": [
       "<div>\n",
       "<style scoped>\n",
       "    .dataframe tbody tr th:only-of-type {\n",
       "        vertical-align: middle;\n",
       "    }\n",
       "\n",
       "    .dataframe tbody tr th {\n",
       "        vertical-align: top;\n",
       "    }\n",
       "\n",
       "    .dataframe thead th {\n",
       "        text-align: right;\n",
       "    }\n",
       "</style>\n",
       "<table border=\"1\" class=\"dataframe\">\n",
       "  <thead>\n",
       "    <tr style=\"text-align: right;\">\n",
       "      <th></th>\n",
       "      <th>date</th>\n",
       "      <th>ISE</th>\n",
       "      <th>ISE.1</th>\n",
       "      <th>SP</th>\n",
       "      <th>DAX</th>\n",
       "      <th>FTSE</th>\n",
       "      <th>NIKKEI</th>\n",
       "      <th>BOVESPA</th>\n",
       "      <th>EU</th>\n",
       "      <th>EM</th>\n",
       "      <th>SP_GE_zero</th>\n",
       "    </tr>\n",
       "  </thead>\n",
       "  <tbody>\n",
       "    <tr>\n",
       "      <th>136</th>\n",
       "      <td>2009-07-17</td>\n",
       "      <td>-0.011324</td>\n",
       "      <td>-0.009282</td>\n",
       "      <td>-0.000383</td>\n",
       "      <td>0.004270</td>\n",
       "      <td>0.006171</td>\n",
       "      <td>0.005460</td>\n",
       "      <td>0.002962</td>\n",
       "      <td>0.006393</td>\n",
       "      <td>0.010282</td>\n",
       "      <td>0</td>\n",
       "    </tr>\n",
       "    <tr>\n",
       "      <th>429</th>\n",
       "      <td>2010-09-17</td>\n",
       "      <td>0.002025</td>\n",
       "      <td>-0.000664</td>\n",
       "      <td>0.000827</td>\n",
       "      <td>-0.006403</td>\n",
       "      <td>-0.005720</td>\n",
       "      <td>0.012186</td>\n",
       "      <td>-0.008519</td>\n",
       "      <td>-0.005120</td>\n",
       "      <td>0.003107</td>\n",
       "      <td>1</td>\n",
       "    </tr>\n",
       "    <tr>\n",
       "      <th>27</th>\n",
       "      <td>2009-02-11</td>\n",
       "      <td>-0.022106</td>\n",
       "      <td>-0.033893</td>\n",
       "      <td>0.007923</td>\n",
       "      <td>0.005434</td>\n",
       "      <td>0.005019</td>\n",
       "      <td>-0.030745</td>\n",
       "      <td>-0.008799</td>\n",
       "      <td>0.001097</td>\n",
       "      <td>-0.007926</td>\n",
       "      <td>1</td>\n",
       "    </tr>\n",
       "    <tr>\n",
       "      <th>9</th>\n",
       "      <td>2009-01-16</td>\n",
       "      <td>0.022037</td>\n",
       "      <td>0.032278</td>\n",
       "      <td>0.007533</td>\n",
       "      <td>0.006791</td>\n",
       "      <td>0.006289</td>\n",
       "      <td>0.025453</td>\n",
       "      <td>0.004867</td>\n",
       "      <td>0.008561</td>\n",
       "      <td>0.010917</td>\n",
       "      <td>1</td>\n",
       "    </tr>\n",
       "    <tr>\n",
       "      <th>236</th>\n",
       "      <td>2009-12-14</td>\n",
       "      <td>0.016307</td>\n",
       "      <td>0.010667</td>\n",
       "      <td>0.006935</td>\n",
       "      <td>0.007954</td>\n",
       "      <td>0.010154</td>\n",
       "      <td>-0.000217</td>\n",
       "      <td>0.001183</td>\n",
       "      <td>0.008030</td>\n",
       "      <td>0.004325</td>\n",
       "      <td>1</td>\n",
       "    </tr>\n",
       "    <tr>\n",
       "      <th>481</th>\n",
       "      <td>2010-12-08</td>\n",
       "      <td>-0.002491</td>\n",
       "      <td>-0.012462</td>\n",
       "      <td>0.003695</td>\n",
       "      <td>-0.003726</td>\n",
       "      <td>-0.002413</td>\n",
       "      <td>0.008956</td>\n",
       "      <td>-0.016915</td>\n",
       "      <td>0.001569</td>\n",
       "      <td>-0.007650</td>\n",
       "      <td>1</td>\n",
       "    </tr>\n",
       "    <tr>\n",
       "      <th>351</th>\n",
       "      <td>2010-05-27</td>\n",
       "      <td>0.007264</td>\n",
       "      <td>0.014993</td>\n",
       "      <td>0.032347</td>\n",
       "      <td>0.030634</td>\n",
       "      <td>0.030706</td>\n",
       "      <td>0.012218</td>\n",
       "      <td>0.031111</td>\n",
       "      <td>0.029857</td>\n",
       "      <td>0.017184</td>\n",
       "      <td>1</td>\n",
       "    </tr>\n",
       "    <tr>\n",
       "      <th>398</th>\n",
       "      <td>2010-08-02</td>\n",
       "      <td>0.013711</td>\n",
       "      <td>0.022125</td>\n",
       "      <td>0.021784</td>\n",
       "      <td>0.023178</td>\n",
       "      <td>0.026111</td>\n",
       "      <td>0.003455</td>\n",
       "      <td>0.014732</td>\n",
       "      <td>0.025195</td>\n",
       "      <td>0.015749</td>\n",
       "      <td>1</td>\n",
       "    </tr>\n",
       "    <tr>\n",
       "      <th>231</th>\n",
       "      <td>2009-12-07</td>\n",
       "      <td>-0.003724</td>\n",
       "      <td>-0.011418</td>\n",
       "      <td>-0.002471</td>\n",
       "      <td>-0.005671</td>\n",
       "      <td>-0.002201</td>\n",
       "      <td>0.014365</td>\n",
       "      <td>0.013342</td>\n",
       "      <td>-0.003358</td>\n",
       "      <td>0.000403</td>\n",
       "      <td>0</td>\n",
       "    </tr>\n",
       "    <tr>\n",
       "      <th>461</th>\n",
       "      <td>2010-11-04</td>\n",
       "      <td>0.032986</td>\n",
       "      <td>0.042670</td>\n",
       "      <td>0.019099</td>\n",
       "      <td>0.017509</td>\n",
       "      <td>0.019601</td>\n",
       "      <td>0.000000</td>\n",
       "      <td>0.015059</td>\n",
       "      <td>0.016419</td>\n",
       "      <td>0.010737</td>\n",
       "      <td>1</td>\n",
       "    </tr>\n",
       "  </tbody>\n",
       "</table>\n",
       "</div>"
      ],
      "text/plain": [
       "          date       ISE     ISE.1        SP       DAX      FTSE    NIKKEI  \\\n",
       "136 2009-07-17 -0.011324 -0.009282 -0.000383  0.004270  0.006171  0.005460   \n",
       "429 2010-09-17  0.002025 -0.000664  0.000827 -0.006403 -0.005720  0.012186   \n",
       "27  2009-02-11 -0.022106 -0.033893  0.007923  0.005434  0.005019 -0.030745   \n",
       "9   2009-01-16  0.022037  0.032278  0.007533  0.006791  0.006289  0.025453   \n",
       "236 2009-12-14  0.016307  0.010667  0.006935  0.007954  0.010154 -0.000217   \n",
       "481 2010-12-08 -0.002491 -0.012462  0.003695 -0.003726 -0.002413  0.008956   \n",
       "351 2010-05-27  0.007264  0.014993  0.032347  0.030634  0.030706  0.012218   \n",
       "398 2010-08-02  0.013711  0.022125  0.021784  0.023178  0.026111  0.003455   \n",
       "231 2009-12-07 -0.003724 -0.011418 -0.002471 -0.005671 -0.002201  0.014365   \n",
       "461 2010-11-04  0.032986  0.042670  0.019099  0.017509  0.019601  0.000000   \n",
       "\n",
       "      BOVESPA        EU        EM  SP_GE_zero  \n",
       "136  0.002962  0.006393  0.010282           0  \n",
       "429 -0.008519 -0.005120  0.003107           1  \n",
       "27  -0.008799  0.001097 -0.007926           1  \n",
       "9    0.004867  0.008561  0.010917           1  \n",
       "236  0.001183  0.008030  0.004325           1  \n",
       "481 -0.016915  0.001569 -0.007650           1  \n",
       "351  0.031111  0.029857  0.017184           1  \n",
       "398  0.014732  0.025195  0.015749           1  \n",
       "231  0.013342 -0.003358  0.000403           0  \n",
       "461  0.015059  0.016419  0.010737           1  "
      ]
     },
     "execution_count": 34,
     "metadata": {},
     "output_type": "execute_result"
    }
   ],
   "source": [
    "# randomly select 10 records from df\n",
    "df.sample(10)"
   ]
  },
  {
   "cell_type": "code",
   "execution_count": 35,
   "metadata": {},
   "outputs": [
    {
     "data": {
      "text/html": [
       "<div>\n",
       "<style scoped>\n",
       "    .dataframe tbody tr th:only-of-type {\n",
       "        vertical-align: middle;\n",
       "    }\n",
       "\n",
       "    .dataframe tbody tr th {\n",
       "        vertical-align: top;\n",
       "    }\n",
       "\n",
       "    .dataframe thead th {\n",
       "        text-align: right;\n",
       "    }\n",
       "</style>\n",
       "<table border=\"1\" class=\"dataframe\">\n",
       "  <thead>\n",
       "    <tr style=\"text-align: right;\">\n",
       "      <th></th>\n",
       "      <th>date</th>\n",
       "      <th>ISE</th>\n",
       "      <th>ISE.1</th>\n",
       "      <th>SP</th>\n",
       "      <th>DAX</th>\n",
       "      <th>FTSE</th>\n",
       "      <th>NIKKEI</th>\n",
       "      <th>BOVESPA</th>\n",
       "      <th>EU</th>\n",
       "      <th>EM</th>\n",
       "      <th>SP_GE_zero</th>\n",
       "    </tr>\n",
       "  </thead>\n",
       "  <tbody>\n",
       "    <tr>\n",
       "      <th>49</th>\n",
       "      <td>2009-03-13</td>\n",
       "      <td>0.003213</td>\n",
       "      <td>0.034067</td>\n",
       "      <td>0.007709</td>\n",
       "      <td>-0.000662</td>\n",
       "      <td>0.011144</td>\n",
       "      <td>0.05026</td>\n",
       "      <td>-0.003505</td>\n",
       "      <td>0.006194</td>\n",
       "      <td>0.018689</td>\n",
       "      <td>1</td>\n",
       "    </tr>\n",
       "  </tbody>\n",
       "</table>\n",
       "</div>"
      ],
      "text/plain": [
       "         date       ISE     ISE.1        SP       DAX      FTSE   NIKKEI  \\\n",
       "49 2009-03-13  0.003213  0.034067  0.007709 -0.000662  0.011144  0.05026   \n",
       "\n",
       "     BOVESPA        EU        EM  SP_GE_zero  \n",
       "49 -0.003505  0.006194  0.018689           1  "
      ]
     },
     "execution_count": 35,
     "metadata": {},
     "output_type": "execute_result"
    }
   ],
   "source": [
    "# select the fifty row from df\n",
    "df[49:50]"
   ]
  },
  {
   "cell_type": "code",
   "execution_count": 36,
   "metadata": {},
   "outputs": [
    {
     "name": "stdout",
     "output_type": "stream",
     "text": [
      "<class 'pandas.core.frame.DataFrame'>\n",
      "RangeIndex: 536 entries, 0 to 535\n",
      "Data columns (total 11 columns):\n",
      " #   Column      Non-Null Count  Dtype         \n",
      "---  ------      --------------  -----         \n",
      " 0   date        536 non-null    datetime64[ns]\n",
      " 1   ISE         536 non-null    float64       \n",
      " 2   ISE.1       536 non-null    float64       \n",
      " 3   SP          536 non-null    float64       \n",
      " 4   DAX         536 non-null    float64       \n",
      " 5   FTSE        536 non-null    float64       \n",
      " 6   NIKKEI      536 non-null    float64       \n",
      " 7   BOVESPA     536 non-null    float64       \n",
      " 8   EU          536 non-null    float64       \n",
      " 9   EM          536 non-null    float64       \n",
      " 10  SP_GE_zero  536 non-null    int64         \n",
      "dtypes: datetime64[ns](1), float64(9), int64(1)\n",
      "memory usage: 46.2 KB\n"
     ]
    }
   ],
   "source": [
    "# find out all data types for all fields\n",
    "df.info()"
   ]
  },
  {
   "cell_type": "code",
   "execution_count": 37,
   "metadata": {},
   "outputs": [],
   "source": [
    "# select the third columsn from df\n",
    "# summarize grouped by column \"SP_GE_zero\" "
   ]
  },
  {
   "cell_type": "code",
   "execution_count": 38,
   "metadata": {},
   "outputs": [
    {
     "data": {
      "text/html": [
       "<div>\n",
       "<style scoped>\n",
       "    .dataframe tbody tr th:only-of-type {\n",
       "        vertical-align: middle;\n",
       "    }\n",
       "\n",
       "    .dataframe tbody tr th {\n",
       "        vertical-align: top;\n",
       "    }\n",
       "\n",
       "    .dataframe thead th {\n",
       "        text-align: right;\n",
       "    }\n",
       "</style>\n",
       "<table border=\"1\" class=\"dataframe\">\n",
       "  <thead>\n",
       "    <tr style=\"text-align: right;\">\n",
       "      <th></th>\n",
       "      <th>date</th>\n",
       "      <th>ISE</th>\n",
       "      <th>ISE.1</th>\n",
       "      <th>SP</th>\n",
       "      <th>DAX</th>\n",
       "      <th>FTSE</th>\n",
       "      <th>NIKKEI</th>\n",
       "      <th>BOVESPA</th>\n",
       "      <th>EU</th>\n",
       "      <th>EM</th>\n",
       "      <th>SP_GE_zero</th>\n",
       "    </tr>\n",
       "  </thead>\n",
       "  <tbody>\n",
       "    <tr>\n",
       "      <th>2</th>\n",
       "      <td>2009-01-07</td>\n",
       "      <td>-0.028862</td>\n",
       "      <td>-0.026353</td>\n",
       "      <td>-0.030469</td>\n",
       "      <td>-0.017833</td>\n",
       "      <td>-0.028735</td>\n",
       "      <td>0.017293</td>\n",
       "      <td>-0.035899</td>\n",
       "      <td>-0.017073</td>\n",
       "      <td>-0.020015</td>\n",
       "      <td>0</td>\n",
       "    </tr>\n",
       "  </tbody>\n",
       "</table>\n",
       "</div>"
      ],
      "text/plain": [
       "        date       ISE     ISE.1        SP       DAX      FTSE    NIKKEI  \\\n",
       "2 2009-01-07 -0.028862 -0.026353 -0.030469 -0.017833 -0.028735  0.017293   \n",
       "\n",
       "    BOVESPA        EU        EM  SP_GE_zero  \n",
       "2 -0.035899 -0.017073 -0.020015           0  "
      ]
     },
     "execution_count": 38,
     "metadata": {},
     "output_type": "execute_result"
    }
   ],
   "source": [
    "# select the third columsn from df\n",
    "df[2:3]"
   ]
  },
  {
   "cell_type": "code",
   "execution_count": 39,
   "metadata": {},
   "outputs": [
    {
     "data": {
      "text/html": [
       "<div>\n",
       "<style scoped>\n",
       "    .dataframe tbody tr th:only-of-type {\n",
       "        vertical-align: middle;\n",
       "    }\n",
       "\n",
       "    .dataframe tbody tr th {\n",
       "        vertical-align: top;\n",
       "    }\n",
       "\n",
       "    .dataframe thead th {\n",
       "        text-align: right;\n",
       "    }\n",
       "</style>\n",
       "<table border=\"1\" class=\"dataframe\">\n",
       "  <thead>\n",
       "    <tr style=\"text-align: right;\">\n",
       "      <th></th>\n",
       "      <th>date</th>\n",
       "      <th>ISE</th>\n",
       "      <th>ISE.1</th>\n",
       "      <th>SP</th>\n",
       "      <th>DAX</th>\n",
       "      <th>FTSE</th>\n",
       "      <th>NIKKEI</th>\n",
       "      <th>BOVESPA</th>\n",
       "      <th>EU</th>\n",
       "      <th>EM</th>\n",
       "    </tr>\n",
       "    <tr>\n",
       "      <th>SP_GE_zero</th>\n",
       "      <th></th>\n",
       "      <th></th>\n",
       "      <th></th>\n",
       "      <th></th>\n",
       "      <th></th>\n",
       "      <th></th>\n",
       "      <th></th>\n",
       "      <th></th>\n",
       "      <th></th>\n",
       "      <th></th>\n",
       "    </tr>\n",
       "  </thead>\n",
       "  <tbody>\n",
       "    <tr>\n",
       "      <th>0</th>\n",
       "      <td>2009-01-05</td>\n",
       "      <td>0.035754</td>\n",
       "      <td>0.038376</td>\n",
       "      <td>-0.004679</td>\n",
       "      <td>0.002193</td>\n",
       "      <td>0.003894</td>\n",
       "      <td>0.000000</td>\n",
       "      <td>0.03119</td>\n",
       "      <td>0.012698</td>\n",
       "      <td>0.028524</td>\n",
       "    </tr>\n",
       "    <tr>\n",
       "      <th>1</th>\n",
       "      <td>2009-01-06</td>\n",
       "      <td>0.025426</td>\n",
       "      <td>0.031813</td>\n",
       "      <td>0.007787</td>\n",
       "      <td>0.008455</td>\n",
       "      <td>0.012866</td>\n",
       "      <td>0.004162</td>\n",
       "      <td>0.01892</td>\n",
       "      <td>0.011341</td>\n",
       "      <td>0.008773</td>\n",
       "    </tr>\n",
       "  </tbody>\n",
       "</table>\n",
       "</div>"
      ],
      "text/plain": [
       "                 date       ISE     ISE.1        SP       DAX      FTSE  \\\n",
       "SP_GE_zero                                                                \n",
       "0          2009-01-05  0.035754  0.038376 -0.004679  0.002193  0.003894   \n",
       "1          2009-01-06  0.025426  0.031813  0.007787  0.008455  0.012866   \n",
       "\n",
       "              NIKKEI  BOVESPA        EU        EM  \n",
       "SP_GE_zero                                         \n",
       "0           0.000000  0.03119  0.012698  0.028524  \n",
       "1           0.004162  0.01892  0.011341  0.008773  "
      ]
     },
     "execution_count": 39,
     "metadata": {},
     "output_type": "execute_result"
    }
   ],
   "source": [
    "# summarize grouped by column \"SP_GE_zero\" \n",
    "group = df.groupby('SP_GE_zero')\n",
    "\n",
    "#print the first values in each group \n",
    "group.first()"
   ]
  },
  {
   "cell_type": "code",
   "execution_count": null,
   "metadata": {},
   "outputs": [],
   "source": []
  }
 ],
 "metadata": {
  "kernelspec": {
   "display_name": "Python 3",
   "language": "python",
   "name": "python3"
  },
  "language_info": {
   "codemirror_mode": {
    "name": "ipython",
    "version": 3
   },
   "file_extension": ".py",
   "mimetype": "text/x-python",
   "name": "python",
   "nbconvert_exporter": "python",
   "pygments_lexer": "ipython3",
   "version": "3.8.8"
  }
 },
 "nbformat": 4,
 "nbformat_minor": 2
}
